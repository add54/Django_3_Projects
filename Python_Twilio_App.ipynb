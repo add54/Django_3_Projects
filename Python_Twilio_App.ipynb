{
  "nbformat": 4,
  "nbformat_minor": 0,
  "metadata": {
    "colab": {
      "name": "Python_Twilio_App.ipynb",
      "provenance": [],
      "authorship_tag": "ABX9TyOhSf3sGfObyT7XsL3lnc0E",
      "include_colab_link": true
    },
    "kernelspec": {
      "name": "python3",
      "display_name": "Python 3"
    },
    "language_info": {
      "name": "python"
    }
  },
  "cells": [
    {
      "cell_type": "markdown",
      "metadata": {
        "id": "view-in-github",
        "colab_type": "text"
      },
      "source": [
        "<a href=\"https://colab.research.google.com/github/add54/Django_3_Projects/blob/master/Python_Twilio_App.ipynb\" target=\"_parent\"><img src=\"https://colab.research.google.com/assets/colab-badge.svg\" alt=\"Open In Colab\"/></a>"
      ]
    },
    {
      "cell_type": "code",
      "execution_count": 1,
      "metadata": {
        "colab": {
          "base_uri": "https://localhost:8080/"
        },
        "id": "nOdPw3qDNqnW",
        "outputId": "c4bb1b2a-45a8-437f-fcac-14d82b557475"
      },
      "outputs": [
        {
          "output_type": "stream",
          "name": "stdout",
          "text": [
            "Collecting twilio\n",
            "  Downloading twilio-7.4.0-py2.py3-none-any.whl (1.3 MB)\n",
            "\u001b[?25l\r\u001b[K     |▎                               | 10 kB 25.8 MB/s eta 0:00:01\r\u001b[K     |▌                               | 20 kB 31.4 MB/s eta 0:00:01\r\u001b[K     |▊                               | 30 kB 34.5 MB/s eta 0:00:01\r\u001b[K     |█                               | 40 kB 21.9 MB/s eta 0:00:01\r\u001b[K     |█▎                              | 51 kB 10.1 MB/s eta 0:00:01\r\u001b[K     |█▌                              | 61 kB 8.4 MB/s eta 0:00:01\r\u001b[K     |█▊                              | 71 kB 9.1 MB/s eta 0:00:01\r\u001b[K     |██                              | 81 kB 10.2 MB/s eta 0:00:01\r\u001b[K     |██▏                             | 92 kB 11.1 MB/s eta 0:00:01\r\u001b[K     |██▌                             | 102 kB 8.9 MB/s eta 0:00:01\r\u001b[K     |██▊                             | 112 kB 8.9 MB/s eta 0:00:01\r\u001b[K     |███                             | 122 kB 8.9 MB/s eta 0:00:01\r\u001b[K     |███▏                            | 133 kB 8.9 MB/s eta 0:00:01\r\u001b[K     |███▌                            | 143 kB 8.9 MB/s eta 0:00:01\r\u001b[K     |███▊                            | 153 kB 8.9 MB/s eta 0:00:01\r\u001b[K     |████                            | 163 kB 8.9 MB/s eta 0:00:01\r\u001b[K     |████▏                           | 174 kB 8.9 MB/s eta 0:00:01\r\u001b[K     |████▍                           | 184 kB 8.9 MB/s eta 0:00:01\r\u001b[K     |████▊                           | 194 kB 8.9 MB/s eta 0:00:01\r\u001b[K     |█████                           | 204 kB 8.9 MB/s eta 0:00:01\r\u001b[K     |█████▏                          | 215 kB 8.9 MB/s eta 0:00:01\r\u001b[K     |█████▍                          | 225 kB 8.9 MB/s eta 0:00:01\r\u001b[K     |█████▊                          | 235 kB 8.9 MB/s eta 0:00:01\r\u001b[K     |██████                          | 245 kB 8.9 MB/s eta 0:00:01\r\u001b[K     |██████▏                         | 256 kB 8.9 MB/s eta 0:00:01\r\u001b[K     |██████▍                         | 266 kB 8.9 MB/s eta 0:00:01\r\u001b[K     |██████▋                         | 276 kB 8.9 MB/s eta 0:00:01\r\u001b[K     |███████                         | 286 kB 8.9 MB/s eta 0:00:01\r\u001b[K     |███████▏                        | 296 kB 8.9 MB/s eta 0:00:01\r\u001b[K     |███████▍                        | 307 kB 8.9 MB/s eta 0:00:01\r\u001b[K     |███████▋                        | 317 kB 8.9 MB/s eta 0:00:01\r\u001b[K     |███████▉                        | 327 kB 8.9 MB/s eta 0:00:01\r\u001b[K     |████████▏                       | 337 kB 8.9 MB/s eta 0:00:01\r\u001b[K     |████████▍                       | 348 kB 8.9 MB/s eta 0:00:01\r\u001b[K     |████████▋                       | 358 kB 8.9 MB/s eta 0:00:01\r\u001b[K     |████████▉                       | 368 kB 8.9 MB/s eta 0:00:01\r\u001b[K     |█████████▏                      | 378 kB 8.9 MB/s eta 0:00:01\r\u001b[K     |█████████▍                      | 389 kB 8.9 MB/s eta 0:00:01\r\u001b[K     |█████████▋                      | 399 kB 8.9 MB/s eta 0:00:01\r\u001b[K     |█████████▉                      | 409 kB 8.9 MB/s eta 0:00:01\r\u001b[K     |██████████                      | 419 kB 8.9 MB/s eta 0:00:01\r\u001b[K     |██████████▍                     | 430 kB 8.9 MB/s eta 0:00:01\r\u001b[K     |██████████▋                     | 440 kB 8.9 MB/s eta 0:00:01\r\u001b[K     |██████████▉                     | 450 kB 8.9 MB/s eta 0:00:01\r\u001b[K     |███████████                     | 460 kB 8.9 MB/s eta 0:00:01\r\u001b[K     |███████████▍                    | 471 kB 8.9 MB/s eta 0:00:01\r\u001b[K     |███████████▋                    | 481 kB 8.9 MB/s eta 0:00:01\r\u001b[K     |███████████▉                    | 491 kB 8.9 MB/s eta 0:00:01\r\u001b[K     |████████████                    | 501 kB 8.9 MB/s eta 0:00:01\r\u001b[K     |████████████▎                   | 512 kB 8.9 MB/s eta 0:00:01\r\u001b[K     |████████████▋                   | 522 kB 8.9 MB/s eta 0:00:01\r\u001b[K     |████████████▉                   | 532 kB 8.9 MB/s eta 0:00:01\r\u001b[K     |█████████████                   | 542 kB 8.9 MB/s eta 0:00:01\r\u001b[K     |█████████████▎                  | 552 kB 8.9 MB/s eta 0:00:01\r\u001b[K     |█████████████▋                  | 563 kB 8.9 MB/s eta 0:00:01\r\u001b[K     |█████████████▉                  | 573 kB 8.9 MB/s eta 0:00:01\r\u001b[K     |██████████████                  | 583 kB 8.9 MB/s eta 0:00:01\r\u001b[K     |██████████████▎                 | 593 kB 8.9 MB/s eta 0:00:01\r\u001b[K     |██████████████▌                 | 604 kB 8.9 MB/s eta 0:00:01\r\u001b[K     |██████████████▉                 | 614 kB 8.9 MB/s eta 0:00:01\r\u001b[K     |███████████████                 | 624 kB 8.9 MB/s eta 0:00:01\r\u001b[K     |███████████████▎                | 634 kB 8.9 MB/s eta 0:00:01\r\u001b[K     |███████████████▌                | 645 kB 8.9 MB/s eta 0:00:01\r\u001b[K     |███████████████▊                | 655 kB 8.9 MB/s eta 0:00:01\r\u001b[K     |████████████████                | 665 kB 8.9 MB/s eta 0:00:01\r\u001b[K     |████████████████▎               | 675 kB 8.9 MB/s eta 0:00:01\r\u001b[K     |████████████████▌               | 686 kB 8.9 MB/s eta 0:00:01\r\u001b[K     |████████████████▊               | 696 kB 8.9 MB/s eta 0:00:01\r\u001b[K     |█████████████████               | 706 kB 8.9 MB/s eta 0:00:01\r\u001b[K     |█████████████████▎              | 716 kB 8.9 MB/s eta 0:00:01\r\u001b[K     |█████████████████▌              | 727 kB 8.9 MB/s eta 0:00:01\r\u001b[K     |█████████████████▊              | 737 kB 8.9 MB/s eta 0:00:01\r\u001b[K     |██████████████████              | 747 kB 8.9 MB/s eta 0:00:01\r\u001b[K     |██████████████████▎             | 757 kB 8.9 MB/s eta 0:00:01\r\u001b[K     |██████████████████▌             | 768 kB 8.9 MB/s eta 0:00:01\r\u001b[K     |██████████████████▊             | 778 kB 8.9 MB/s eta 0:00:01\r\u001b[K     |███████████████████             | 788 kB 8.9 MB/s eta 0:00:01\r\u001b[K     |███████████████████▎            | 798 kB 8.9 MB/s eta 0:00:01\r\u001b[K     |███████████████████▌            | 808 kB 8.9 MB/s eta 0:00:01\r\u001b[K     |███████████████████▊            | 819 kB 8.9 MB/s eta 0:00:01\r\u001b[K     |████████████████████            | 829 kB 8.9 MB/s eta 0:00:01\r\u001b[K     |████████████████████▏           | 839 kB 8.9 MB/s eta 0:00:01\r\u001b[K     |████████████████████▌           | 849 kB 8.9 MB/s eta 0:00:01\r\u001b[K     |████████████████████▊           | 860 kB 8.9 MB/s eta 0:00:01\r\u001b[K     |█████████████████████           | 870 kB 8.9 MB/s eta 0:00:01\r\u001b[K     |█████████████████████▏          | 880 kB 8.9 MB/s eta 0:00:01\r\u001b[K     |█████████████████████▌          | 890 kB 8.9 MB/s eta 0:00:01\r\u001b[K     |█████████████████████▊          | 901 kB 8.9 MB/s eta 0:00:01\r\u001b[K     |██████████████████████          | 911 kB 8.9 MB/s eta 0:00:01\r\u001b[K     |██████████████████████▏         | 921 kB 8.9 MB/s eta 0:00:01\r\u001b[K     |██████████████████████▍         | 931 kB 8.9 MB/s eta 0:00:01\r\u001b[K     |██████████████████████▊         | 942 kB 8.9 MB/s eta 0:00:01\r\u001b[K     |███████████████████████         | 952 kB 8.9 MB/s eta 0:00:01\r\u001b[K     |███████████████████████▏        | 962 kB 8.9 MB/s eta 0:00:01\r\u001b[K     |███████████████████████▍        | 972 kB 8.9 MB/s eta 0:00:01\r\u001b[K     |███████████████████████▋        | 983 kB 8.9 MB/s eta 0:00:01\r\u001b[K     |████████████████████████        | 993 kB 8.9 MB/s eta 0:00:01\r\u001b[K     |████████████████████████▏       | 1.0 MB 8.9 MB/s eta 0:00:01\r\u001b[K     |████████████████████████▍       | 1.0 MB 8.9 MB/s eta 0:00:01\r\u001b[K     |████████████████████████▋       | 1.0 MB 8.9 MB/s eta 0:00:01\r\u001b[K     |█████████████████████████       | 1.0 MB 8.9 MB/s eta 0:00:01\r\u001b[K     |█████████████████████████▏      | 1.0 MB 8.9 MB/s eta 0:00:01\r\u001b[K     |█████████████████████████▍      | 1.1 MB 8.9 MB/s eta 0:00:01\r\u001b[K     |█████████████████████████▋      | 1.1 MB 8.9 MB/s eta 0:00:01\r\u001b[K     |█████████████████████████▉      | 1.1 MB 8.9 MB/s eta 0:00:01\r\u001b[K     |██████████████████████████▏     | 1.1 MB 8.9 MB/s eta 0:00:01\r\u001b[K     |██████████████████████████▍     | 1.1 MB 8.9 MB/s eta 0:00:01\r\u001b[K     |██████████████████████████▋     | 1.1 MB 8.9 MB/s eta 0:00:01\r\u001b[K     |██████████████████████████▉     | 1.1 MB 8.9 MB/s eta 0:00:01\r\u001b[K     |███████████████████████████▏    | 1.1 MB 8.9 MB/s eta 0:00:01\r\u001b[K     |███████████████████████████▍    | 1.1 MB 8.9 MB/s eta 0:00:01\r\u001b[K     |███████████████████████████▋    | 1.1 MB 8.9 MB/s eta 0:00:01\r\u001b[K     |███████████████████████████▉    | 1.2 MB 8.9 MB/s eta 0:00:01\r\u001b[K     |████████████████████████████    | 1.2 MB 8.9 MB/s eta 0:00:01\r\u001b[K     |████████████████████████████▍   | 1.2 MB 8.9 MB/s eta 0:00:01\r\u001b[K     |████████████████████████████▋   | 1.2 MB 8.9 MB/s eta 0:00:01\r\u001b[K     |████████████████████████████▉   | 1.2 MB 8.9 MB/s eta 0:00:01\r\u001b[K     |█████████████████████████████   | 1.2 MB 8.9 MB/s eta 0:00:01\r\u001b[K     |█████████████████████████████▎  | 1.2 MB 8.9 MB/s eta 0:00:01\r\u001b[K     |█████████████████████████████▋  | 1.2 MB 8.9 MB/s eta 0:00:01\r\u001b[K     |█████████████████████████████▉  | 1.2 MB 8.9 MB/s eta 0:00:01\r\u001b[K     |██████████████████████████████  | 1.2 MB 8.9 MB/s eta 0:00:01\r\u001b[K     |██████████████████████████████▎ | 1.3 MB 8.9 MB/s eta 0:00:01\r\u001b[K     |██████████████████████████████▋ | 1.3 MB 8.9 MB/s eta 0:00:01\r\u001b[K     |██████████████████████████████▉ | 1.3 MB 8.9 MB/s eta 0:00:01\r\u001b[K     |███████████████████████████████ | 1.3 MB 8.9 MB/s eta 0:00:01\r\u001b[K     |███████████████████████████████▎| 1.3 MB 8.9 MB/s eta 0:00:01\r\u001b[K     |███████████████████████████████▌| 1.3 MB 8.9 MB/s eta 0:00:01\r\u001b[K     |███████████████████████████████▉| 1.3 MB 8.9 MB/s eta 0:00:01\r\u001b[K     |████████████████████████████████| 1.3 MB 8.9 MB/s \n",
            "\u001b[?25hRequirement already satisfied: pytz in /usr/local/lib/python3.7/dist-packages (from twilio) (2018.9)\n",
            "Requirement already satisfied: requests>=2.0.0 in /usr/local/lib/python3.7/dist-packages (from twilio) (2.23.0)\n",
            "Collecting PyJWT<3.0.0,>=2.0.0\n",
            "  Downloading PyJWT-2.3.0-py3-none-any.whl (16 kB)\n",
            "Requirement already satisfied: urllib3!=1.25.0,!=1.25.1,<1.26,>=1.21.1 in /usr/local/lib/python3.7/dist-packages (from requests>=2.0.0->twilio) (1.24.3)\n",
            "Requirement already satisfied: certifi>=2017.4.17 in /usr/local/lib/python3.7/dist-packages (from requests>=2.0.0->twilio) (2021.10.8)\n",
            "Requirement already satisfied: chardet<4,>=3.0.2 in /usr/local/lib/python3.7/dist-packages (from requests>=2.0.0->twilio) (3.0.4)\n",
            "Requirement already satisfied: idna<3,>=2.5 in /usr/local/lib/python3.7/dist-packages (from requests>=2.0.0->twilio) (2.10)\n",
            "Installing collected packages: PyJWT, twilio\n",
            "Successfully installed PyJWT-2.3.0 twilio-7.4.0\n"
          ]
        }
      ],
      "source": [
        "!pip install twilio\n"
      ]
    },
    {
      "cell_type": "code",
      "source": [
        "from twilio.rest import Client\n",
        "account_sid = 'ACeea12b39276eaece3be40334edf0746a'\n",
        "auth_token = 'be554a3e3aadcb38f021c4f4bd1895a6'\n",
        "client = Client(account_sid, auth_token)\n",
        "call = client.calls.create(\n",
        "                        twiml='<Response><Say>Hello success learners</say></Response>',\n",
        "                        to ='+336651xxx',\n",
        "                        from_='+3366513xxx'\n",
        "                      )\n",
        "print(call.sid)"
      ],
      "metadata": {
        "colab": {
          "base_uri": "https://localhost:8080/"
        },
        "id": "BdtO6aDgPh82",
        "outputId": "67eb9374-945c-4936-f0bb-a014a7e8f2ca"
      },
      "execution_count": 7,
      "outputs": [
        {
          "output_type": "stream",
          "name": "stdout",
          "text": [
            "CA881029fb3c904b414df6e2133d4ec20e\n"
          ]
        }
      ]
    }
  ]
}